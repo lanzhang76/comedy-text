{
 "cells": [
  {
   "cell_type": "code",
   "execution_count": 1,
   "metadata": {},
   "outputs": [],
   "source": [
    "#Garrett's writings and generated text based on his writings\n",
    "textfile = open('lan-file.txt',\"r\")\n",
    "textfile2 = open('lan-experiment.txt',\"r\")\n",
    "text = textfile.read()\n",
    "text2 = textfile2.read()\n",
    "text2 = text2.replace('\\n', ' ').replace('\\t', ' ')"
   ]
  },
  {
   "cell_type": "code",
   "execution_count": 2,
   "metadata": {},
   "outputs": [],
   "source": [
    "import markovify\n",
    "generator_a = markovify.Text(text)\n",
    "generator_b = markovify.Text(text2)"
   ]
  },
  {
   "cell_type": "code",
   "execution_count": 7,
   "metadata": {},
   "outputs": [
    {
     "name": "stdout",
     "output_type": "stream",
     "text": [
      "Falcon’s hands are shaking, and he leans in to kiss her.\n"
     ]
    }
   ],
   "source": [
    "#generator_a.make_sentence()\n",
    "model_combo = markovify.combine([ generator_a, generator_b ], [ 1 , 0.2 ])\n",
    "print(model_combo.make_sentence())"
   ]
  },
  {
   "cell_type": "code",
   "execution_count": 8,
   "metadata": {
    "scrolled": false
   },
   "outputs": [
    {
     "name": "stdout",
     "output_type": "stream",
     "text": [
      "He makes hard, laborious rows on the side of her face for a second, then looked behind her, back towards home.\n",
      "The garage was a kid, I’d play this game with my foot, and leaned down to look at me.\n",
      "It’s the only proper house in the back of his belly up through his throat, and he told me to her mother would say, “I caun’t wayute to go check on him.\n",
      "I visited my mother at the construction site, he looks for it in a room with one of these, Teresa Medeiros’ Fairest Of Them All survives the demolition.\n",
      "After she passed the spot where the firemen had kicked it down.\n",
      "They were about to escape together, they see us together, they see his face on my face too.”\n",
      "8 “There are homes for her,” I told them that I hoped they were just outlines.\n",
      "She pointed her finger at her ear up against the door and listen to you make fucking animal noises when you’re alone in the hospital.\n",
      "He talked about how you could be not-scary too.\n",
      "A car pulled up beside her with a representative that can better assist you with fan-mail!\n",
      "He leaned his head had slammed on the man’s jacket.\n",
      "She knew that she didn’t get to D.C. was spent making plans for the fact that there were less dishes to clean.\n",
      "When I was so fed up that you’d kiss me with your lips baby but if I wanted, and I had gotten deeper, Molly couldn’t really see anything under the desk.\n",
      "He then got up at one point to go back.\n",
      ". . . . . . It was we left it sitting out for our mother.\n",
      "Adrianne starts walking back into the garage, she put on one of these, Teresa Medeiros’ Fairest Of Them All survives the demolition.\n",
      "Blueprints meant to come back and visit Tennessee?”\n",
      "“If I send you his obituary as proof, could you send me the site, his username made me feel like the reporter had described, collapsing during the storm.\n",
      "The pieces depicted them making a great escape from an island base, trying to pick the lock on his face.\n",
      "The other brother had bits and pieces of his head sticking out of the few on our block that was still standing.\n",
      "Not that they don’t look real, because sometimes when he walks through the front door my mother had a blister in-between her toes, and it looks to Brantleigh like he pulled a knife on her.\n",
      ". . . I went to the eye of the hamper.\n",
      "So I turn on American Ninja Warrior” Theo is trapped on a post-it-note.\n",
      "I eyed our dining table, and remembered the time her father the idea.\n",
      "He talked about the reporter from the pits of his driveway and is slowly lurching his way down the street.\n",
      "It was we left her behind.\n",
      "There was one building that my brother was nine Christmases ago.\n",
      "We mainly just watched the movie started, my brother when it was like back in my groin and when she reads the line.\n",
      "My wife got up from the floor and he posted artwork of super-powered women that he would design getting brutally killed.\n",
      "Nobody else seems to be an actress.\n",
      "For a second I had seen people holding each other by our birth names, and something about the crazy old Asian woman who spoke in gibberish about ghosts and monsters.\n",
      "They were about to escape when the account is deactivated.\n",
      "3 . . . I went back to later.\n",
      "I’m not trying to solve a murder.\n",
      "When the storm was over and sirens had stopped, we could hear everything she was at the knee, like she was at the lake in darkness.\n",
      "Her house was on this one.\n",
      "There was a hurricane on the other two corners so they can fold it one way, and then sat down in it to see how close she must have been to freedom.\n",
      "He talked about the car ride back into the lake down the door.\n",
      "On T.V., a reporter was trying to get this shit on my face too.”\n",
      "He leaned his head down on the ones that show you how far the tide got.\n",
      "You could see the building’s skeleton; the copper and metal wiring jolting out from the trees and pulling him out into the mirror that sits on the windshield, and it looks entirely out of the lake, trying to get up and shook it a little.\n",
      "He’s pulled farther and farther, and then when I’m down they shoot my penis, and the second one on a website called DeviantArt and he tries to imagine what he had in his drafts before we opened the door behind us.\n",
      "For a second I had pictured a place that looked like eyes from somewhere alien and far away.\n",
      ". . I went to see if I start I won’t be able to come back later.\n",
      "The murderer, far away at this point, has his cheek up against the wall.\n",
      "As the movie — he played a handsome young cop trying to get to this big blanket buried at the bottom of the few on our block that was waiting for the fact that there now seemed to be an actress.\n",
      "Then, the boy is gone now, and the age he hears in Falcon’s voice scares him.\n",
      "3 . . . Nothing had changed about my pubic hair, and after that we can take her where she’ll be happier than she is with us?”\n",
      "So he grabs them, and they see us together, they had some rushed commentary about how devastated the streets were, how bodies floated upsidedown.\n",
      "They straightened up, and then laughed at the bowling alley anymore.\n"
     ]
    }
   ],
   "source": [
    "newText = \"\"\n",
    "for i in range(50):\n",
    "    part = model_combo.make_short_sentence(300)\n",
    "    print(part)\n",
    "    newText += (\"\\n\" + part)"
   ]
  },
  {
   "cell_type": "code",
   "execution_count": 23,
   "metadata": {},
   "outputs": [],
   "source": [
    "textfile = open('new_text.txt',\"a\")\n",
    "textfile.write(\"\\n\")\n",
    "textfile.write(newText)\n",
    "textfile.close()"
   ]
  },
  {
   "cell_type": "code",
   "execution_count": null,
   "metadata": {},
   "outputs": [],
   "source": []
  },
  {
   "cell_type": "code",
   "execution_count": null,
   "metadata": {},
   "outputs": [],
   "source": []
  }
 ],
 "metadata": {
  "kernelspec": {
   "display_name": "Python 3",
   "language": "python",
   "name": "python3"
  },
  "language_info": {
   "codemirror_mode": {
    "name": "ipython",
    "version": 3
   },
   "file_extension": ".py",
   "mimetype": "text/x-python",
   "name": "python",
   "nbconvert_exporter": "python",
   "pygments_lexer": "ipython3",
   "version": "3.7.4"
  }
 },
 "nbformat": 4,
 "nbformat_minor": 2
}
