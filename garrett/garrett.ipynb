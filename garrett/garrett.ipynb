{
 "cells": [
  {
   "cell_type": "code",
   "execution_count": 30,
   "metadata": {},
   "outputs": [],
   "source": [
    "#Garrett's writings and generated text based on his writings\n",
    "textfile = open('lan-file.txt',\"r\")\n",
    "textfile2 = open('lan-experiment.txt',\"r\")\n",
    "text = textfile.read()\n",
    "text2 = textfile2.read()\n",
    "text2 = text2.replace('\\n', ' ').replace('\\t', ' ')"
   ]
  },
  {
   "cell_type": "code",
   "execution_count": 11,
   "metadata": {},
   "outputs": [],
   "source": [
    "import markovify\n",
    "generator_a = markovify.Text(text)\n",
    "generator_b = markovify.Text(text2)"
   ]
  },
  {
   "cell_type": "code",
   "execution_count": 16,
   "metadata": {},
   "outputs": [
    {
     "name": "stdout",
     "output_type": "stream",
     "text": [
      "8 “There are homes for her,” I told them I’d come back later.\n"
     ]
    }
   ],
   "source": [
    "#generator_a.make_sentence()\n",
    "model_combo = markovify.combine([ generator_a, generator_b ], [ 1 , 1 ])\n",
    "print(model_combo.make_sentence())"
   ]
  },
  {
   "cell_type": "code",
   "execution_count": 32,
   "metadata": {
    "scrolled": true
   },
   "outputs": [
    {
     "name": "stdout",
     "output_type": "stream",
     "text": [
      "A car pulled up to our town.\n",
      "Before he got to wear.\n",
      "I picked it up and down the road that lead to his wife.\n",
      "She had worn her dad’s sandals, and they just sat there for a second, then looked behind her, and saw a mouse without a family.\n",
      "This will be lost when the two super-women getting to the bowling alley anymore.\n",
      "When they were okay.\n",
      "I hit something with my brother was nine Christmases ago.\n",
      "The next day, at the hospital before heading to the edge of the way down, and Molly was afraid of walking past it.\n",
      "She walked over to look at me.\n",
      "If you didn’t know any better, you might do a little when we saw something especially disgusting.\n"
     ]
    }
   ],
   "source": [
    "newText = \"\"\n",
    "for i in range(10):\n",
    "    part = model_combo.make_short_sentence(200)\n",
    "    print(part)\n",
    "    newText += (\"\\n\" + part)"
   ]
  },
  {
   "cell_type": "code",
   "execution_count": 23,
   "metadata": {},
   "outputs": [],
   "source": [
    "textfile = open('new_text.txt',\"a\")\n",
    "textfile.write(\"\\n\")\n",
    "textfile.write(newText)\n",
    "textfile.close()"
   ]
  },
  {
   "cell_type": "code",
   "execution_count": null,
   "metadata": {},
   "outputs": [],
   "source": []
  },
  {
   "cell_type": "code",
   "execution_count": null,
   "metadata": {},
   "outputs": [],
   "source": []
  }
 ],
 "metadata": {
  "kernelspec": {
   "display_name": "Python 3",
   "language": "python",
   "name": "python3"
  },
  "language_info": {
   "codemirror_mode": {
    "name": "ipython",
    "version": 3
   },
   "file_extension": ".py",
   "mimetype": "text/x-python",
   "name": "python",
   "nbconvert_exporter": "python",
   "pygments_lexer": "ipython3",
   "version": "3.7.4"
  }
 },
 "nbformat": 4,
 "nbformat_minor": 2
}
