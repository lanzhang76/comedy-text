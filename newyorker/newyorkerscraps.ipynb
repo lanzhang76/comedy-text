{
 "cells": [
  {
   "cell_type": "code",
   "execution_count": 91,
   "metadata": {},
   "outputs": [
    {
     "data": {
      "text/plain": [
       "72"
      ]
     },
     "execution_count": 91,
     "metadata": {},
     "output_type": "execute_result"
    }
   ],
   "source": [
    "from requests_html import HTMLSession\n",
    "\n",
    "session = HTMLSession()\n",
    "\n",
    "response = session.get('https://condenaststore.com/collections/cartoon+of+the+day?page=7')\n",
    "\n",
    "a = response.html.find(\"div.searchengineresultdiv a\")\n",
    "\n",
    "links = []\n",
    "\n",
    "for t in range(0,len(a),5):\n",
    "    links.append(a[t].attrs.get('href'))\n",
    "\n",
    "len(links)"
   ]
  },
  {
   "cell_type": "code",
   "execution_count": 92,
   "metadata": {},
   "outputs": [],
   "source": [
    "import pandas as pd\n",
    "\n",
    "df = pd.DataFrame(columns=['images', 'title'])"
   ]
  },
  {
   "cell_type": "code",
   "execution_count": 96,
   "metadata": {},
   "outputs": [
    {
     "data": {
      "text/plain": [
       "'You Know What I Think Was The Problem All'"
      ]
     },
     "execution_count": 96,
     "metadata": {},
     "output_type": "execute_result"
    }
   ],
   "source": [
    "r = session.get(\"https://condenaststore.com/\"+ links[0])\n",
    "r.html.find('#h1title', first=True).text"
   ]
  },
  {
   "cell_type": "code",
   "execution_count": 94,
   "metadata": {},
   "outputs": [
    {
     "name": "stdout",
     "output_type": "stream",
     "text": [
      "Processed no.0\n",
      "Processed no.1\n",
      "Processed no.2\n",
      "Processed no.3\n",
      "Processed no.4\n",
      "Processed no.5\n",
      "Processed no.6\n",
      "Processed no.7\n",
      "Processed no.8\n",
      "Processed no.9\n",
      "Processed no.10\n",
      "Processed no.11\n",
      "Processed no.12\n",
      "Processed no.13\n",
      "Processed no.14\n",
      "Processed no.15\n",
      "Processed no.16\n",
      "Processed no.17\n",
      "Processed no.18\n",
      "Processed no.19\n",
      "Processed no.20\n",
      "Processed no.21\n",
      "Processed no.22\n",
      "Processed no.23\n",
      "Processed no.24\n",
      "Processed no.25\n",
      "Processed no.26\n",
      "Processed no.27\n",
      "Processed no.28\n",
      "Processed no.29\n",
      "Processed no.30\n",
      "Processed no.31\n",
      "Processed no.32\n",
      "Processed no.33\n",
      "Processed no.34\n",
      "Processed no.35\n",
      "Processed no.36\n",
      "Processed no.37\n",
      "Processed no.38\n",
      "Processed no.39\n",
      "Processed no.40\n",
      "Processed no.41\n",
      "Processed no.42\n",
      "Processed no.43\n",
      "Processed no.44\n",
      "Processed no.45\n",
      "Processed no.46\n",
      "Processed no.47\n",
      "Processed no.48\n",
      "Processed no.49\n",
      "Processed no.50\n",
      "Processed no.51\n",
      "Processed no.52\n",
      "Processed no.53\n",
      "Processed no.54\n",
      "Processed no.55\n",
      "Processed no.56\n",
      "Processed no.57\n",
      "Processed no.58\n",
      "Processed no.59\n",
      "Processed no.60\n",
      "Processed no.61\n",
      "Processed no.62\n",
      "Processed no.63\n",
      "Processed no.64\n",
      "Processed no.65\n",
      "Processed no.66\n",
      "Processed no.67\n",
      "Processed no.68\n",
      "Processed no.69\n",
      "Processed no.70\n",
      "Processed no.71\n"
     ]
    }
   ],
   "source": [
    "for link in links:\n",
    "    response = session.get(\"https://condenaststore.com/\" + link)\n",
    "    \n",
    "    try: \n",
    "    \n",
    "        images = [img.attrs.get('src') for img in response.html.find('#mainimage')]\n",
    "\n",
    "        title = response.html.find('#h1title', first=True).text\n",
    "        \n",
    "        print(\"Processed no.\" + str(links.index(link)))\n",
    "            \n",
    "        df = df.append({'images': images,\n",
    "            'title': title,}, ignore_index=True)\n",
    "\n",
    "    except Exception as e:\n",
    "        # Print the error\n",
    "        print(e)\n",
    "        # and print the associated link\n",
    "        print('failed on ' + link)"
   ]
  },
  {
   "cell_type": "code",
   "execution_count": 95,
   "metadata": {},
   "outputs": [
    {
     "data": {
      "text/plain": [
       "0             You Know What I Think Was The Problem All\n",
       "1       Labor Day Is The Holiday Also Known As National\n",
       "2     Have You Given Any Thought To Opening Your Lib...\n",
       "3                                       The D. C. Shake\n",
       "4                 Income Tax Form For Donald Trump Only\n",
       "                            ...                        \n",
       "67                            A Penny For Your Thoughts\n",
       "68    That Meme I Posted On Facebook Will Go A Long Way\n",
       "69                  Or Was It Two Black Holes Colliding\n",
       "70       Tell Hillary Clinton We're Not Taking Any More\n",
       "71                            New Signs Of Life On Mars\n",
       "Name: title, Length: 72, dtype: object"
      ]
     },
     "execution_count": 95,
     "metadata": {},
     "output_type": "execute_result"
    }
   ],
   "source": [
    "df.title"
   ]
  },
  {
   "cell_type": "code",
   "execution_count": 97,
   "metadata": {},
   "outputs": [
    {
     "name": "stdout",
     "output_type": "stream",
     "text": [
      "You Know What I Think Was The Problem All\n",
      "Labor Day Is The Holiday Also Known As National\n",
      "Have You Given Any Thought To Opening Your Library\n",
      "The D. C. Shake\n",
      "Income Tax Form For Donald Trump Only\n",
      "Primary Day In New York\n",
      "The Future Of The Planet Depend\n",
      "People Pay Me To Put Steps On Their Fitbits\n",
      "If Anyone Has A Reason Why These Two\n",
      "On The Plus Side We Won't Have Access To The News\n",
      "Will He Be Born In Time To Take Him To The New\n",
      "She's Totally Pissed Off At Nate Silver\n",
      "There's A Picture Of Baby George\n",
      "I'm Running Today For Hoof And Mouth Disease\n",
      "Absolute Power Is On Line One And His Banker\n",
      "Hoodies Are Considered Sleepwear Only\n",
      "Add Penis Size To The List Of Qualifications\n",
      "We Apologize For The Delays\n",
      "Twenty Thousand Eggs But Do They Ever Call\n",
      "If He Can Scare The Hell Out Of Matt Lauer\n",
      "There Are Only Going To Be Two Branches\n",
      "Of Course I Worry That He Could Be Another\n",
      "We'll Be Hiring Private Contractors\n",
      "The Most Popular Name For Little Girls\n",
      "I Will Do Anything I Can To Find Boris Nemtsov's\n",
      "Talk To A Blue Collar Guy\n",
      "Let's Watch Reruns Of The Apprentice Instead\n",
      "Start Bitching About Our Allergies\n",
      "It Worked For Don Draper\n",
      "That One's For Birthdays\n",
      "Trump Inspired\n",
      "Yodo\n",
      "There's No Problem Getting A Gig On Cable\n",
      "I Just Hope Joe Biden's Ok\n",
      "Peaceful Loving Thoughts To All Sentient Beings\n",
      "Thirty Five Years Old With Nothing To Leak\n",
      "I Guess It's Time To Start Caring About Zombies\n",
      "Your Government At Work Next 100 Miles\n",
      "Found Myself Feeling Sorry For The Leaders\n",
      "Special Rigged Election Edition\n",
      "That's A Ridesharing App\n",
      "Are You Tellling Me We Can't Save The Twinkie\n",
      "What Is We Limit Drone Attacks\n",
      "More Middle Aged White People\n",
      "Finally A Politician With The Courage To Take\n",
      "White Peoople Do The Darndest Things\n",
      "Bonus To Mess With Texas\n",
      "A Substance Similar To An Unpaid Bill\n",
      "I May Be A Member But I Wouldn't Identify Myself\n",
      "Order Your Prom Dress Today\n",
      "The Krampus In The Korner\n",
      "Dow\n",
      "Just This Once Turn Up The Eagles\n",
      "Minimum Wager\n",
      "Sorry Mariah But All I Can Get You Booked On Now\n",
      "I'm Not A Flip Flopper\n",
      "Any Other Hobbies Besides Blowing Whistles\n",
      "That One Is For Frowning On Sexual Assault\n",
      "Stand By - I'll Tell You Whether Or Not To Jump\n",
      "Highlights Of Ted Cruz's 21 Hour Marathon Speech\n",
      "World Cup\n",
      "Just Anouther Recipe For Boeuf Bouruignon\n",
      "A Phone That's Impossible To Unlock\n",
      "Electronic Does Not Mean Nursery Appropriate\n",
      "Confirmation Bias Is A Hell Of A Drug\n",
      "I'm Ok With Minimum Wage As Long As You're Ok\n",
      "We Can Still Wallow In American Mud\n",
      "A Penny For Your Thoughts\n",
      "That Meme I Posted On Facebook Will Go A Long Way\n",
      "Or Was It Two Black Holes Colliding\n",
      "Tell Hillary Clinton We're Not Taking Any More\n",
      "New Signs Of Life On Mars\n"
     ]
    }
   ],
   "source": [
    "import urllib.request\n",
    "\n",
    "for index, row in df.iterrows():\n",
    "\n",
    "    for url in row['images']:\n",
    "        file_name = row['title']\n",
    "        print(file_name)\n",
    "        urllib.request.urlretrieve(url, 'images/' + file_name)  "
   ]
  },
  {
   "cell_type": "code",
   "execution_count": null,
   "metadata": {},
   "outputs": [],
   "source": []
  }
 ],
 "metadata": {
  "kernelspec": {
   "display_name": "Python 3",
   "language": "python",
   "name": "python3"
  },
  "language_info": {
   "codemirror_mode": {
    "name": "ipython",
    "version": 3
   },
   "file_extension": ".py",
   "mimetype": "text/x-python",
   "name": "python",
   "nbconvert_exporter": "python",
   "pygments_lexer": "ipython3",
   "version": "3.7.4"
  }
 },
 "nbformat": 4,
 "nbformat_minor": 2
}
